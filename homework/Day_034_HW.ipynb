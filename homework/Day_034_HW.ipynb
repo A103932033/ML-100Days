{
 "cells": [
  {
   "cell_type": "markdown",
   "metadata": {},
   "source": [
    "## 練習時間\n",
    "假設我們資料中類別的數量並不均衡，在評估準確率時可能會有所偏頗，試著切分出 y_test 中，0 類別與 1 類別的數量是一樣的 (亦即 y_test 的類別是均衡的)"
   ]
  },
  {
   "cell_type": "code",
   "execution_count": 1,
   "metadata": {},
   "outputs": [],
   "source": [
    "from sklearn.model_selection import train_test_split, KFold\n",
    "import numpy as np\n",
    "X = np.arange(1000).reshape(200, 5)\n",
    "y = np.zeros(200)\n",
    "y[:40] = 1"
   ]
  },
  {
   "cell_type": "code",
   "execution_count": 2,
   "metadata": {},
   "outputs": [
    {
     "data": {
      "text/plain": [
       "array([1., 1., 1., 1., 1., 1., 1., 1., 1., 1., 1., 1., 1., 1., 1., 1., 1.,\n",
       "       1., 1., 1., 1., 1., 1., 1., 1., 1., 1., 1., 1., 1., 1., 1., 1., 1.,\n",
       "       1., 1., 1., 1., 1., 1., 0., 0., 0., 0., 0., 0., 0., 0., 0., 0., 0.,\n",
       "       0., 0., 0., 0., 0., 0., 0., 0., 0., 0., 0., 0., 0., 0., 0., 0., 0.,\n",
       "       0., 0., 0., 0., 0., 0., 0., 0., 0., 0., 0., 0., 0., 0., 0., 0., 0.,\n",
       "       0., 0., 0., 0., 0., 0., 0., 0., 0., 0., 0., 0., 0., 0., 0., 0., 0.,\n",
       "       0., 0., 0., 0., 0., 0., 0., 0., 0., 0., 0., 0., 0., 0., 0., 0., 0.,\n",
       "       0., 0., 0., 0., 0., 0., 0., 0., 0., 0., 0., 0., 0., 0., 0., 0., 0.,\n",
       "       0., 0., 0., 0., 0., 0., 0., 0., 0., 0., 0., 0., 0., 0., 0., 0., 0.,\n",
       "       0., 0., 0., 0., 0., 0., 0., 0., 0., 0., 0., 0., 0., 0., 0., 0., 0.,\n",
       "       0., 0., 0., 0., 0., 0., 0., 0., 0., 0., 0., 0., 0., 0., 0., 0., 0.,\n",
       "       0., 0., 0., 0., 0., 0., 0., 0., 0., 0., 0., 0., 0.])"
      ]
     },
     "execution_count": 2,
     "metadata": {},
     "output_type": "execute_result"
    }
   ],
   "source": [
    "y"
   ]
  },
  {
   "cell_type": "markdown",
   "metadata": {},
   "source": [
    "可以看見 y 類別中，有 160 個 類別 0，40 個 類別 1 ，請試著使用 train_test_split 函數，切分出 y_test 中能各有 10 筆類別 0 與 10 筆類別 1 。(HINT: 參考函數中的 test_size，可針對不同類別各自作切分後再合併)"
   ]
  },
  {
   "cell_type": "code",
   "execution_count": 3,
   "metadata": {},
   "outputs": [],
   "source": [
    "# 將資料切分為 y=0 及 y=1 兩個類別\n",
    "mask = (y==1)\n",
    "X_y1, y_y1 = X[mask], y[mask]\n",
    "X_y0, y_y0 = X[~mask], y[~mask]"
   ]
  },
  {
   "cell_type": "code",
   "execution_count": 4,
   "metadata": {},
   "outputs": [],
   "source": [
    "#使用 train_test_split 函數進行切分\n",
    "size = y_y1.size\n",
    "X_y1_train, X_y1_test, y_y1_train, y_y1_test = train_test_split(X_y1, y_y1, test_size=(10/size))\n",
    "\n",
    "size = y_y0.size\n",
    "X_y0_train, X_y0_test, y_y0_train, y_y0_test = train_test_split(X_y0, y_y0, test_size=(10/size))\n",
    "\n",
    "# 合併 y=0 及 y=1 兩個類別的 train/test data\n",
    "X_train = np.concatenate((X_y1_train, X_y0_train), axis=0)\n",
    "y_train = np.concatenate((y_y1_train, y_y0_train), axis=0)\n",
    "\n",
    "X_test = np.concatenate((X_y1_test, X_y0_test), axis=0)\n",
    "y_test = np.concatenate((y_y1_test, y_y0_test), axis=0)"
   ]
  },
  {
   "cell_type": "code",
   "execution_count": 5,
   "metadata": {},
   "outputs": [
    {
     "data": {
      "text/plain": [
       "array([[160, 161, 162, 163, 164],\n",
       "       [ 50,  51,  52,  53,  54],\n",
       "       [135, 136, 137, 138, 139],\n",
       "       [ 20,  21,  22,  23,  24],\n",
       "       [ 60,  61,  62,  63,  64],\n",
       "       [165, 166, 167, 168, 169],\n",
       "       [170, 171, 172, 173, 174],\n",
       "       [ 80,  81,  82,  83,  84],\n",
       "       [175, 176, 177, 178, 179],\n",
       "       [ 65,  66,  67,  68,  69],\n",
       "       [475, 476, 477, 478, 479],\n",
       "       [615, 616, 617, 618, 619],\n",
       "       [425, 426, 427, 428, 429],\n",
       "       [575, 576, 577, 578, 579],\n",
       "       [370, 371, 372, 373, 374],\n",
       "       [500, 501, 502, 503, 504],\n",
       "       [295, 296, 297, 298, 299],\n",
       "       [335, 336, 337, 338, 339],\n",
       "       [995, 996, 997, 998, 999],\n",
       "       [325, 326, 327, 328, 329]])"
      ]
     },
     "execution_count": 5,
     "metadata": {},
     "output_type": "execute_result"
    }
   ],
   "source": [
    "X_test"
   ]
  },
  {
   "cell_type": "code",
   "execution_count": 6,
   "metadata": {},
   "outputs": [
    {
     "data": {
      "text/plain": [
       "array([1., 1., 1., 1., 1., 1., 1., 1., 1., 1., 0., 0., 0., 0., 0., 0., 0.,\n",
       "       0., 0., 0.])"
      ]
     },
     "execution_count": 6,
     "metadata": {},
     "output_type": "execute_result"
    }
   ],
   "source": [
    "y_test"
   ]
  },
  {
   "cell_type": "code",
   "execution_count": null,
   "metadata": {},
   "outputs": [],
   "source": []
  }
 ],
 "metadata": {
  "kernelspec": {
   "display_name": "Python 3",
   "language": "python",
   "name": "python3"
  },
  "language_info": {
   "codemirror_mode": {
    "name": "ipython",
    "version": 3
   },
   "file_extension": ".py",
   "mimetype": "text/x-python",
   "name": "python",
   "nbconvert_exporter": "python",
   "pygments_lexer": "ipython3",
   "version": "3.7.1"
  }
 },
 "nbformat": 4,
 "nbformat_minor": 2
}
