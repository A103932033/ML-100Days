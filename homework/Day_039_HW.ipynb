{
 "cells": [
  {
   "cell_type": "markdown",
   "metadata": {},
   "source": [
    "## 作業"
   ]
  },
  {
   "cell_type": "markdown",
   "metadata": {},
   "source": [
    "請閱讀相關文獻，並回答下列問題\n",
    "\n",
    "[脊回歸 (Ridge Regression)](https://blog.csdn.net/daunxx/article/details/51578787)\n",
    "[Linear, Ridge, Lasso Regression 本質區別](https://www.zhihu.com/question/38121173)\n",
    "\n",
    "1. LASSO 回歸可以被用來作為 Feature selection 的工具，請了解 LASSO 模型為什麼可用來作 Feature selection\n",
    "2. 當自變數 (X) 存在高度共線性時，Ridge Regression 可以處理這樣的問題嗎?\n"
   ]
  },
  {
   "cell_type": "markdown",
   "metadata": {},
   "source": [
    "### Answer:\n",
    "\n",
    "1. The LASSO minimizes the sum of squared errors, with a upper bound on the sum of the absolute values of the model parameters. The lasso estimate is defined by the solution to the l1 optimization problem\n",
    "$$ \\hat\\beta(\\lambda) = \\underset{\\beta}{argmin} \\left(\\frac{\\lVert \\boldsymbol{Y} - \\boldsymbol{X}\\beta\\rVert_2^2}{n} + \\lambda\\lVert\\beta\\rVert_1\\right) $$\n",
    "  where λ ≥ 0 is the parameter that controls the strength of the penalty, the larger the value of λ, the greater the amount of shrinkage.\n",
    "\n",
    "2. 當自變數(X)存在高度共線性時，一般的线性回归模型求得的参数($\\beta$)在数值上会非常的大，而 Ridge Regression 透過加上一个惩罚项(penality term, L2)，限制参数的增长，那么模型对自變數(X)噪声的敏感度就会降低\n",
    "\n",
    "  (Ridge Regression：https://blog.csdn.net/daunxx/article/details/51578787)"
   ]
  },
  {
   "cell_type": "code",
   "execution_count": null,
   "metadata": {},
   "outputs": [],
   "source": []
  }
 ],
 "metadata": {
  "kernelspec": {
   "display_name": "Python 3",
   "language": "python",
   "name": "python3"
  },
  "language_info": {
   "codemirror_mode": {
    "name": "ipython",
    "version": 3
   },
   "file_extension": ".py",
   "mimetype": "text/x-python",
   "name": "python",
   "nbconvert_exporter": "python",
   "pygments_lexer": "ipython3",
   "version": "3.7.1"
  }
 },
 "nbformat": 4,
 "nbformat_minor": 2
}
